{
 "cells": [
  {
   "cell_type": "markdown",
   "metadata": {},
   "source": [
    "# Data Science Test"
   ]
  },
  {
   "cell_type": "markdown",
   "metadata": {},
   "source": [
    "Local test for data science candidates.\n",
    "\n",
    "---"
   ]
  },
  {
   "cell_type": "markdown",
   "metadata": {},
   "source": [
    "You may use the following libraries: numpy, pandas and matplotlib. "
   ]
  },
  {
   "cell_type": "code",
   "execution_count": null,
   "metadata": {
    "collapsed": false
   },
   "outputs": [],
   "source": [
    "% matplotlib inline\n",
    "\n",
    "# Import your libraries\n",
    "\n"
   ]
  },
  {
   "cell_type": "markdown",
   "metadata": {},
   "source": [
    "## Multilinear regression\n",
    "\n",
    "----\n",
    "**Problem:** Code a multilinear regressor to estimate the value of the exchange rate using the lag value of the time series as the training data. \n",
    "\n",
    "Consider the following time series (vector) $S$ representing the USDMXN time series data. \n",
    "\n",
    "\\begin{equation}\n",
    "S = \n",
    "\\begin{bmatrix}\n",
    "s_0 \\\\\n",
    "s_1 \\\\\n",
    "s_2 \\\\\n",
    "\\vdots \\\\\n",
    "s_n \\\\\n",
    "\\end{bmatrix}\n",
    "\\end{equation}\n",
    "\n",
    "To estimate a given value of $S_i$ where $i \\in [\\lambda, \\lambda+1,\\lambda+2,\\ldots,n]$ and $0 \\leq \\lambda < n$ the followin $A$ matrix (lag-matrix of $S$) and $B$ matrix (value to estimate) are proposed:\n",
    "\n",
    "\\begin{equation}\n",
    "A = \n",
    "\\begin{bmatrix}\n",
    "s_0 & s_1 & \\ldots & s_{\\lambda-1} \\\\\n",
    "s_1 & s_2 & \\ldots & s_{\\lambda} \\\\\n",
    "s_2 & s_3 & \\ldots & s_{\\lambda+2} \\\\\n",
    "\\vdots & \\vdots & \\ddots & \\vdots \\\\\n",
    "s_{n-\\lambda} & s_{n-\\lambda+1} & \\ldots & s_{n-1}\\\\\n",
    "\\end{bmatrix}\n",
    "\\end{equation}\n",
    "\n",
    "\\begin{equation}\n",
    "B = \n",
    "\\begin{bmatrix}\n",
    "s_\\lambda \\\\\n",
    "s_{\\lambda+1} \\\\\n",
    "s_{\\lambda+2} \\\\\n",
    "\\vdots \\\\\n",
    "s_n \\\\\n",
    "\\end{bmatrix}\n",
    "\\end{equation}\n",
    "\n",
    "Such that: \n",
    "\n",
    "\\begin{equation}\n",
    "A_{mxw} \\quad X_{wx1} \\quad = \\quad B_{wx1}\n",
    "\\end{equation}\n",
    "\n",
    "Where $m=n-\\lambda$ and $w$ are the number of parameters to estimate. \n",
    "\n",
    "**Task:** calculate the coefficient matrix $X$ that accurately estimates $B$ given $A$ and evaluate the model. Consider adding a \"ones\" column to matrix $A$ and explain how this changes the model. "
   ]
  },
  {
   "cell_type": "markdown",
   "metadata": {},
   "source": [
    "### Read the data"
   ]
  },
  {
   "cell_type": "markdown",
   "metadata": {},
   "source": [
    "Read the raw data into a pandas dataframe with 'Date' as the index and plot the result. There is a file named 'ExchangeRate.csv' with two columns: Date and ExchangeRate."
   ]
  },
  {
   "cell_type": "code",
   "execution_count": null,
   "metadata": {
    "collapsed": true
   },
   "outputs": [],
   "source": [
    "# Read data as a pandas dataframe \n",
    "file_name = 'ExchangeRate.csv'\n",
    "raw_data = # ---- your code here ----"
   ]
  },
  {
   "cell_type": "code",
   "execution_count": null,
   "metadata": {
    "collapsed": false
   },
   "outputs": [],
   "source": [
    "# Plot data \n",
    "\n",
    "raw_data.plot()\n",
    "plt.title('Original Data')\n",
    "plt.show()"
   ]
  },
  {
   "cell_type": "markdown",
   "metadata": {},
   "source": [
    "### Get Features"
   ]
  },
  {
   "cell_type": "markdown",
   "metadata": {},
   "source": [
    "Compelte the function **separateFeatures** to return input_data and output data as dataframes. Remember that input_data must be the lag-matrix of the output data."
   ]
  },
  {
   "cell_type": "code",
   "execution_count": null,
   "metadata": {
    "collapsed": true
   },
   "outputs": [],
   "source": [
    "# Complete the function \n",
    "\n",
    "def separatFeatures(df,lag = 2):\n",
    "    '''\n",
    "    \n",
    "    '''\n",
    "    \n",
    "    # get length of dataframe (rows)\n",
    "    # ---- your code here ----\n",
    "    \n",
    "    # extract output data \n",
    "    # ---- your code here ----\n",
    "    \n",
    "    # extract input data \n",
    "    # ---- your code here ----\n",
    "    \n",
    "    #return input_data, output_data\n",
    "    pass"
   ]
  },
  {
   "cell_type": "code",
   "execution_count": null,
   "metadata": {
    "collapsed": false
   },
   "outputs": [],
   "source": [
    "# Separate data \n",
    "\n",
    "lag = 5\n",
    "A, B = separatFeatures(raw_data,lag)"
   ]
  },
  {
   "cell_type": "code",
   "execution_count": null,
   "metadata": {
    "collapsed": false
   },
   "outputs": [],
   "source": [
    "# Visualize x-data \n",
    "\n"
   ]
  },
  {
   "cell_type": "markdown",
   "metadata": {},
   "source": [
    "Add \"ones\" column to x. Explain why this is needed. "
   ]
  },
  {
   "cell_type": "code",
   "execution_count": null,
   "metadata": {
    "collapsed": true
   },
   "outputs": [],
   "source": [
    "# Complete the function \n",
    "\n",
    "def addOnes(df):\n",
    "    # ---- your code here ----\n",
    "    \n",
    "    pass"
   ]
  },
  {
   "cell_type": "code",
   "execution_count": null,
   "metadata": {
    "collapsed": false
   },
   "outputs": [],
   "source": [
    "# Test \n",
    "\n",
    "A = addOnes(A)\n",
    "A.head()"
   ]
  },
  {
   "cell_type": "markdown",
   "metadata": {},
   "source": [
    "## Calculate coefficient-matrix \n",
    "\n",
    "Get the coefficient values to estimate the output for $B$ matrix.\n",
    "\n",
    "**Hint**:\n",
    "\n",
    "\\begin{equation}\n",
    "A \\quad x \\quad = \\quad B \\\\\n",
    "A^T \\quad A \\quad x \\quad = \\quad A^T \\quad B \\\\\n",
    "\\end{equation}\n",
    "\n",
    "\\begin{equation}\n",
    "x \\quad = \\quad (A^T \\quad A )^{-1} \\quad B \\\\\n",
    "\\end{equation}"
   ]
  },
  {
   "cell_type": "code",
   "execution_count": null,
   "metadata": {
    "collapsed": true
   },
   "outputs": [],
   "source": [
    "# Complete the function \n",
    "\n",
    "def getCoefs(x,y):\n",
    "    # ---- your code here ----\n",
    "    \n",
    "    pass"
   ]
  },
  {
   "cell_type": "code",
   "execution_count": null,
   "metadata": {
    "collapsed": false
   },
   "outputs": [],
   "source": [
    "# Test \n",
    "\n",
    "coefs = getCoefs(A,B)\n",
    "coefs"
   ]
  },
  {
   "cell_type": "markdown",
   "metadata": {},
   "source": [
    "### Evaluate the model \n",
    "\n",
    "Get the estimates for matrix $B$ and calculate the **mean square error**. Plot the real value (B) versus the estimate. "
   ]
  },
  {
   "cell_type": "code",
   "execution_count": null,
   "metadata": {
    "collapsed": true
   },
   "outputs": [],
   "source": [
    "# Complete the function \n",
    "\n",
    "def performRegression(x,y,_details=False):\n",
    "    \n",
    "    # ---- your code here ----\n",
    "    pass"
   ]
  },
  {
   "cell_type": "code",
   "execution_count": null,
   "metadata": {
    "collapsed": false
   },
   "outputs": [],
   "source": [
    "# Test -- you can modify this code.\n",
    "\n",
    "estimate, details = performRegression(A,B,_details=True)"
   ]
  },
  {
   "cell_type": "code",
   "execution_count": null,
   "metadata": {
    "collapsed": false
   },
   "outputs": [],
   "source": [
    "# Plot real vs estimate \n",
    "\n",
    "# ---- your code here ----"
   ]
  },
  {
   "cell_type": "code",
   "execution_count": null,
   "metadata": {
    "collapsed": false
   },
   "outputs": [],
   "source": [
    "# Plot errors \n",
    "\n",
    "# ---- your code here ----"
   ]
  },
  {
   "cell_type": "markdown",
   "metadata": {},
   "source": [
    "----"
   ]
  },
  {
   "cell_type": "markdown",
   "metadata": {},
   "source": [
    "## Feature Generation \n",
    "\n",
    "**Task**: Perform a simple regression using the functions developed in the previous section. Generate new features if needed to decrease the mean square error. "
   ]
  },
  {
   "cell_type": "code",
   "execution_count": null,
   "metadata": {
    "collapsed": false
   },
   "outputs": [],
   "source": [
    "df = pd.read_csv('Supervised.csv')\n",
    "df.head()"
   ]
  },
  {
   "cell_type": "markdown",
   "metadata": {},
   "source": [
    "Separate data into x and y."
   ]
  },
  {
   "cell_type": "code",
   "execution_count": null,
   "metadata": {
    "collapsed": false
   },
   "outputs": [],
   "source": [
    "x = df[['x0']]\n",
    "y = df[['y']]"
   ]
  },
  {
   "cell_type": "markdown",
   "metadata": {},
   "source": [
    "Propose regression model with feature generation."
   ]
  },
  {
   "cell_type": "code",
   "execution_count": null,
   "metadata": {
    "collapsed": false
   },
   "outputs": [],
   "source": [
    "# ---- your code here ----\n",
    "\n"
   ]
  },
  {
   "cell_type": "code",
   "execution_count": null,
   "metadata": {
    "collapsed": false
   },
   "outputs": [],
   "source": [
    "# ---- your code here ----\n",
    "\n"
   ]
  },
  {
   "cell_type": "markdown",
   "metadata": {},
   "source": [
    "Plot model and show mse."
   ]
  },
  {
   "cell_type": "code",
   "execution_count": null,
   "metadata": {
    "collapsed": false
   },
   "outputs": [],
   "source": [
    "# Plot models \n",
    "\n",
    "# ---- your code here ----\n",
    "\n"
   ]
  },
  {
   "cell_type": "markdown",
   "metadata": {},
   "source": [
    "## Gradiend Descent Algorithm -- one variable "
   ]
  },
  {
   "cell_type": "markdown",
   "metadata": {},
   "source": [
    "Consider the following function: \n",
    "\n",
    "\\begin{equation}\n",
    "f = ln(x)(x-2)^2-(x-3)^2+\\sqrt{\\frac{e^x}{10^3}}\n",
    "\\end{equation}"
   ]
  },
  {
   "cell_type": "code",
   "execution_count": null,
   "metadata": {
    "collapsed": false
   },
   "outputs": [],
   "source": [
    "def f(x):\n",
    "    return np.log(x)*(x-10)**2 - (x-3)**2 + np.sqrt(np.exp(x)/10000)\n",
    "\n",
    "\n",
    "x_axis = np.arange(2.5,20)\n",
    "plt.plot(x_axis,f(x_axis))\n",
    "plt.show()"
   ]
  },
  {
   "cell_type": "markdown",
   "metadata": {},
   "source": [
    "**Task**: find the minimum value of $f(x)$ for $x \\in [2.5, 20]$ using the gradient descent algorithm and recursion (functional programming). "
   ]
  }
 ],
 "metadata": {
  "kernelspec": {
   "display_name": "Python 3",
   "language": "python",
   "name": "python3"
  },
  "language_info": {
   "codemirror_mode": {
    "name": "ipython",
    "version": 3
   },
   "file_extension": ".py",
   "mimetype": "text/x-python",
   "name": "python",
   "nbconvert_exporter": "python",
   "pygments_lexer": "ipython3",
   "version": "3.6.0"
  }
 },
 "nbformat": 4,
 "nbformat_minor": 2
}
